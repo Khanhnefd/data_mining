{
 "cells": [
  {
   "cell_type": "code",
   "execution_count": 1,
   "metadata": {},
   "outputs": [],
   "source": [
    "import torch\n",
    "from torch.nn.utils.rnn import pad_sequence\n",
    "\n",
    "def collate_fn(data):\n",
    "    \"\"\"\n",
    "    Hàm số này sẽ được sử dụng để pad session về max length\n",
    "    Args:\n",
    "      data: batch truyền vào\n",
    "    return:\n",
    "      batch data đã được pad length có shape maxlen x batch_size\n",
    "    \"\"\"\n",
    "    # Sort batch theo độ dài của input_sequence từ cao xuống thấp\n",
    "    data.sort(key=lambda x: len(x[0]), reverse=True)\n",
    "    lens = [len(sess) for sess, label in data]\n",
    "    labels = []\n",
    "    # Padding batch size\n",
    "    # padded_sesss = torch.zeros(len(data), max(lens)).long()\n",
    "    # for i, (sess, label) in enumerate(data):\n",
    "    #     padded_sesss[i,:lens[i]] = torch.LongTensor(sess)\n",
    "    #     labels.append(label)\n",
    "\n",
    "    # print(padded_sesss)\n",
    "    inputs = []\n",
    "    for s, l in data:\n",
    "      inputs.append(torch.LongTensor(s))\n",
    "      labels.append(l)\n",
    "    padded_sesss = pad_sequence(inputs)\n",
    "\n",
    "\n",
    "    # Transpose dữ liệu từ batch_size x maxlen --> maxlen x batch_size\n",
    "    # padded_sesss = padded_sesss.transpose(0,1)\n",
    "    return padded_sesss, torch.tensor(labels).long(), lens"
   ]
  },
  {
   "cell_type": "code",
   "execution_count": 31,
   "metadata": {},
   "outputs": [
    {
     "name": "stdout",
     "output_type": "stream",
     "text": [
      "---------\n",
      "input_seq: tensor([[1, 1],\n",
      "        [2, 0],\n",
      "        [3, 0]])\n",
      "torch.Size([3, 2])\n",
      "for loopp -------\n",
      "x1 after: tensor([[  44,   55,   66],\n",
      "        [  44,   55,   66],\n",
      "        [  34,  445,  665],\n",
      "        [   0,    0,    0],\n",
      "        [1278,   93,   30],\n",
      "        [   0,    0,    0]])\n",
      "---------\n",
      "x1 after: tensor([[[  44,   55,   66],\n",
      "         [  44,   55,   66]],\n",
      "\n",
      "        [[  34,  445,  665],\n",
      "         [   0,    0,    0]],\n",
      "\n",
      "        [[1278,   93,   30],\n",
      "         [   0,    0,    0]]])\n",
      "torch.Size([3, 2, 3])\n"
     ]
    }
   ],
   "source": [
    "data =  [ [[1, 2, 3], [1]], [[1], [3]] ]\n",
    "\n",
    "feature_data={\n",
    "    1: [44, 55, 66],\n",
    "    2: [34, 445, 665],\n",
    "    3: [1278, 93, 30]\n",
    "}\n",
    "\n",
    "# print(data)\n",
    "# data.sort(key=lambda x: len(x[0]), reverse=False)\n",
    "\n",
    "# print(data)\n",
    "print(\"---------\")\n",
    "x = collate_fn(data)\n",
    "input_seq = x[0]\n",
    "print(\"input_seq:\",input_seq)\n",
    "print(input_seq.shape)\n",
    "# print(input_seq.view(-1, 1))\n",
    "\n",
    "x1 = input_seq.view(-1, 1).expand(-1, 3).clone()\n",
    "# print(\"x1:\", x1)\n",
    "# print(\"x1:\", x1.shape)\n",
    "\n",
    "print(\"for loopp -------\")\n",
    "for i, xx1 in enumerate(input_seq.flatten()):\n",
    "    if xx1 == 0:\n",
    "        continue\n",
    "    x1[i] = torch.tensor(feature_data[xx1.item()])\n",
    "\n",
    "#   print(xx1)\n",
    "#   print(torch.tensor(feature_data[xx1.item()]))\n",
    "  \n",
    "  # x1[i] = torch.tensor(feature_data[xx1.item()])\n",
    "\n",
    "print(\"x1 after:\", x1)\n",
    "\n",
    "print(\"---------\")\n",
    "x1 = x1.view(3,2, 3)\n",
    "print(\"x1 after:\", x1)\n",
    "print(x1.shape)\n",
    "\n",
    "# print(\"---------\")\n",
    "# print(x1.view(input_seq.shape))\n",
    "\n",
    "# x = torch.zeros(3, 2).long()\n",
    "# print(x)\n",
    "# for i1 in input_seq:\n",
    "#   for i2 in i1:\n",
    "\n"
   ]
  },
  {
   "cell_type": "code",
   "execution_count": 35,
   "metadata": {},
   "outputs": [
    {
     "name": "stdout",
     "output_type": "stream",
     "text": [
      "torch.Size([3, 2])\n",
      "tensor([[1, 1],\n",
      "        [2, 0],\n",
      "        [3, 0]])\n",
      "tensor([[1, 2, 3],\n",
      "        [1, 0, 0]])\n"
     ]
    }
   ],
   "source": [
    "x = torch.tensor([[1, 1],\n",
    "        [2, 0],\n",
    "        [3, 0]])\n",
    "print(x.shape)\n",
    "print(x)\n",
    "print(x.permute(1, 0))"
   ]
  },
  {
   "cell_type": "code",
   "execution_count": 6,
   "metadata": {},
   "outputs": [],
   "source": [
    "import numpy as np"
   ]
  },
  {
   "cell_type": "code",
   "execution_count": 20,
   "metadata": {},
   "outputs": [],
   "source": [
    "def categorical_cross_entropy(t_list,p_list):\n",
    "    t_list = np.float_(t_list)\n",
    "    p_list = np.float_(p_list)\n",
    "    losses = []\n",
    "    for t,p in zip(t_list,p_list):\n",
    "      loss = -np.sum(t * np.log(p))\n",
    "      losses.append(loss)\n",
    "      print(f't:{t}, p:{p},loss:{loss}\\n')\n",
    "    return np.sum(losses)"
   ]
  },
  {
   "cell_type": "code",
   "execution_count": 23,
   "metadata": {},
   "outputs": [
    {
     "name": "stdout",
     "output_type": "stream",
     "text": [
      "13.815510557964274\n",
      "t:[0. 1. 0. 0. 0. 0. 0. 0. 0.], p:[2.9e-01 1.0e-06 1.0e-01 1.0e-01 1.0e-01 1.0e-01 1.0e-01 1.0e-01 1.0e-01],loss:13.815510557964274\n",
      "\n"
     ]
    },
    {
     "data": {
      "text/plain": [
       "13.815510557964274"
      ]
     },
     "execution_count": 23,
     "metadata": {},
     "output_type": "execute_result"
    }
   ],
   "source": [
    "t_list = [[0,1,0, 0, 0, 0, 0, 0, 0]]\n",
    "p_list = [[0.29,0.000001,0.1, 0.1, 0.1, 0.1, 0.1, 0.1, 0.1]]\n",
    "categorical_cross_entropy(t_list,p_list)"
   ]
  },
  {
   "cell_type": "code",
   "execution_count": 24,
   "metadata": {},
   "outputs": [
    {
     "data": {
      "text/plain": [
       "array([[ -1.23787436, -13.81551056,  -2.30258509,  -2.30258509,\n",
       "         -2.30258509,  -2.30258509,  -2.30258509,  -2.30258509,\n",
       "         -2.30258509]])"
      ]
     },
     "execution_count": 24,
     "metadata": {},
     "output_type": "execute_result"
    }
   ],
   "source": [
    "np.log(p_list)"
   ]
  }
 ],
 "metadata": {
  "kernelspec": {
   "display_name": "Python 3.10.10 ('conda_py10')",
   "language": "python",
   "name": "python3"
  },
  "language_info": {
   "codemirror_mode": {
    "name": "ipython",
    "version": 3
   },
   "file_extension": ".py",
   "mimetype": "text/x-python",
   "name": "python",
   "nbconvert_exporter": "python",
   "pygments_lexer": "ipython3",
   "version": "3.10.10"
  },
  "orig_nbformat": 4,
  "vscode": {
   "interpreter": {
    "hash": "3a78893d61157d25d64ba5e3be048e83c726ddc1b37f11cf180810da7e002b90"
   }
  }
 },
 "nbformat": 4,
 "nbformat_minor": 2
}
